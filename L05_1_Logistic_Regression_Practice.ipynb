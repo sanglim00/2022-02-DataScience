{
  "nbformat": 4,
  "nbformat_minor": 0,
  "metadata": {
    "colab": {
      "provenance": [],
      "collapsed_sections": []
    },
    "kernelspec": {
      "name": "python3",
      "display_name": "Python 3"
    },
    "language_info": {
      "name": "python"
    }
  },
  "cells": [
    {
      "cell_type": "markdown",
      "source": [
        "# Logistic Regression 구현"
      ],
      "metadata": {
        "id": "8fftO-RAjiWv"
      }
    },
    {
      "cell_type": "code",
      "execution_count": 1,
      "metadata": {
        "colab": {
          "base_uri": "https://localhost:8080/"
        },
        "id": "Wo4oTkaV7g9s",
        "outputId": "5821cae2-eb92-4c2b-9f84-84ed8da0bfe3"
      },
      "outputs": [
        {
          "output_type": "stream",
          "name": "stdout",
          "text": [
            "W: tensor([[-0.4990]]), b = tensor([[0.1618]]), cost: 0.7653501033782959\n",
            "W: tensor([[-1.4613]]), b = tensor([[4.4379]]), cost: 0.41957950592041016\n",
            "W: tensor([[-1.9041]]), b = tensor([[5.7908]]), cost: 0.39852651953697205\n",
            "W: tensor([[-2.1781]]), b = tensor([[6.6210]]), cost: 0.3907334804534912\n",
            "W: tensor([[-2.3701]]), b = tensor([[7.1999]]), cost: 0.38696324825286865\n",
            "W: tensor([[-2.5127]]), b = tensor([[7.6288]]), cost: 0.38489818572998047\n",
            "W: tensor([[-2.6224]]), b = tensor([[7.9580]]), cost: 0.3836829662322998\n",
            "W: tensor([[-2.7087]]), b = tensor([[8.2167]]), cost: 0.3829336166381836\n",
            "W: tensor([[-2.7776]]), b = tensor([[8.4231]]), cost: 0.38245639204978943\n",
            "W: tensor([[-2.8334]]), b = tensor([[8.5899]]), cost: 0.38214513659477234\n",
            "W: tensor([[-2.8788]]), b = tensor([[8.7258]]), cost: 0.3819386065006256\n",
            "W: tensor([[-2.9161]]), b = tensor([[8.8372]]), cost: 0.381799578666687\n",
            "W: tensor([[-2.9469]]), b = tensor([[8.9292]]), cost: 0.3817049562931061\n",
            "W: tensor([[-2.9724]]), b = tensor([[9.0053]]), cost: 0.38164007663726807\n",
            "W: tensor([[-2.9936]]), b = tensor([[9.0686]]), cost: 0.3815953731536865\n",
            "W: tensor([[-3.0112]]), b = tensor([[9.1214]]), cost: 0.3815641701221466\n",
            "W: tensor([[-3.0260]]), b = tensor([[9.1655]]), cost: 0.381542444229126\n",
            "W: tensor([[-3.0384]]), b = tensor([[9.2024]]), cost: 0.381527304649353\n",
            "W: tensor([[-3.0487]]), b = tensor([[9.2333]]), cost: 0.38151657581329346\n",
            "W: tensor([[-3.0574]]), b = tensor([[9.2592]]), cost: 0.38150906562805176\n",
            "W: tensor([[-3.0647]]), b = tensor([[9.2810]]), cost: 0.38150373101234436\n",
            "W: tensor([[-3.0709]]), b = tensor([[9.2993]]), cost: 0.3815000355243683\n",
            "W: tensor([[-3.0760]]), b = tensor([[9.3148]]), cost: 0.3814973533153534\n",
            "W: tensor([[-3.0804]]), b = tensor([[9.3277]]), cost: 0.3814953863620758\n",
            "W: tensor([[-3.0840]]), b = tensor([[9.3387]]), cost: 0.3814941346645355\n",
            "W: tensor([[-3.0871]]), b = tensor([[9.3479]]), cost: 0.38149312138557434\n",
            "W: tensor([[-3.0897]]), b = tensor([[9.3557]]), cost: 0.3814924657344818\n",
            "W: tensor([[-3.0919]]), b = tensor([[9.3622]]), cost: 0.381492018699646\n",
            "W: tensor([[-3.0938]]), b = tensor([[9.3678]]), cost: 0.38149163126945496\n",
            "W: tensor([[-3.0954]]), b = tensor([[9.3724]]), cost: 0.38149139285087585\n",
            "W: tensor([[-3.0967]]), b = tensor([[9.3764]]), cost: 0.38149118423461914\n"
          ]
        }
      ],
      "source": [
        "import torch\n",
        "\n",
        "x_train = torch.FloatTensor([[1], [2], [3], [4], [5], [2.5], [3.5], [0], [3.1], [2.7], [2.8], [2.9]]) \n",
        "y_train = torch.FloatTensor([[1], [1], [1], [0], [0], [0], [0], [1], [0], [1], [1], [1]])\n",
        "\n",
        "W = torch.randn(1, 1)\n",
        "b = torch.randn(1, 1)\n",
        "\n",
        "lr = 1.0\n",
        "\n",
        "for epoch in range(3001):\n",
        "  W.requires_grad_(True)\n",
        "  b.requires_grad_(True)\n",
        "\n",
        "  # 시그모이드 함수 사용\n",
        "  h = torch.sigmoid(torch.mm(x_train, W) + b)\n",
        "\n",
        "  # 바이너리 크로스 엔트로피 BCE\n",
        "  cost = torch.mean(-y_train * torch.log(h) - (1 - y_train) * torch.log(1 - h))\n",
        "\n",
        "  cost.backward() # 기울기 계산\n",
        "\n",
        "  with torch.no_grad():\n",
        "    W = W - lr * W.grad\n",
        "    b = b - lr * b.grad\n",
        "    \n",
        "    if epoch % 100 == 0:\n",
        "      print(f\"W: {W}, b = {b}, cost: {cost}\")"
      ]
    },
    {
      "cell_type": "code",
      "source": [
        "# 학습 결과 확인 (x = [4.5] 혹은 [1.1]일 때, y는 0일까 1일까?)\n",
        "x_test = torch.FloatTensor([[4.5],[1.1]])\n",
        "test_result = torch.sigmoid(torch.mm(x_test, W) + b)\n",
        "\n",
        "print(torch.round(test_result))"
      ],
      "metadata": {
        "colab": {
          "base_uri": "https://localhost:8080/"
        },
        "id": "IrzPIjCkjAuF",
        "outputId": "2bd57a51-9ea4-4522-959c-cbf72bb810d1"
      },
      "execution_count": 2,
      "outputs": [
        {
          "output_type": "stream",
          "name": "stdout",
          "text": [
            "tensor([[0.],\n",
            "        [1.]])\n"
          ]
        }
      ]
    },
    {
      "cell_type": "code",
      "source": [
        "with torch.no_grad():\n",
        "  x_test = torch.FloatTensor([[4.5],[1.1]])\n",
        "  test_result = torch.sigmoid(torch.mm(x_test, W) + b)\n",
        "\n",
        "  print(torch.round(test_result))"
      ],
      "metadata": {
        "colab": {
          "base_uri": "https://localhost:8080/"
        },
        "id": "u2lQ3lvLjbnr",
        "outputId": "f75916d2-44bd-42c6-f26c-01b85140901a"
      },
      "execution_count": 4,
      "outputs": [
        {
          "output_type": "stream",
          "name": "stdout",
          "text": [
            "tensor([[0.],\n",
            "        [1.]])\n"
          ]
        }
      ]
    },
    {
      "cell_type": "code",
      "source": [
        "with torch.no_grad():\n",
        "  x_test = torch.tensor([[4.5], [1.1]], dtype=torch.float)\n",
        "  h_test = torch.sigmoid(torch.mm(x_test, W) + b)\n",
        "\n",
        "  h_test[h_test > 0.5] = 1\n",
        "  h_test[h_test <= 0.5] = 0\n",
        "\n",
        "  print(h_test)"
      ],
      "metadata": {
        "colab": {
          "base_uri": "https://localhost:8080/"
        },
        "id": "bxpmqjvSjuli",
        "outputId": "726baf8e-4699-4a4b-93b0-75ba80154e8a"
      },
      "execution_count": 5,
      "outputs": [
        {
          "output_type": "stream",
          "name": "stdout",
          "text": [
            "tensor([[0.],\n",
            "        [1.]])\n"
          ]
        }
      ]
    },
    {
      "cell_type": "markdown",
      "source": [
        "# 여러가지 Optimizer 사용해보기"
      ],
      "metadata": {
        "id": "BzELaAvCkUEu"
      }
    },
    {
      "cell_type": "code",
      "source": [
        "# optimizer는 in-place 연산을 한다\n",
        "# 최적화\n",
        "\n",
        "import torch\n",
        "\n",
        "x_train = torch.FloatTensor([[1], [2], [3], [4], [5], [2.5], [3.5], [0], [3.1], [2.7], [2.8], [2.9]]) \n",
        "y_train = torch.FloatTensor([[1], [1], [1], [0], [0], [0], [0], [1], [0], [1], [1], [1]])\n",
        "\n",
        "W = torch.randn(1, 1, requires_grad=True)\n",
        "b = torch.randn(1, 1, requires_grad=True)\n",
        "\n",
        "# 업데이트 할 파라미터 넣어주기 W와 b\n",
        "optim = torch.optim.SGD([W, b], lr=1.0)\n",
        "\n",
        "# 여러가지 optimizer 사용해보기\n",
        "# optim = torch.optim.Adam([W, b], lr=1.0)\n",
        "# optim = torch.optim.Adadelta([W, b], lr=1.0)\n",
        "# optim = torch.optim.Adagrad([W, b], lr=1.0)\n",
        "# optim = torch.optim.RMSprop([W, b])\n",
        "\n",
        "for epoch in range(3001):\n",
        "\n",
        "  h = torch.sigmoid(torch.mm(x_train, W) + b)\n",
        "  cost = torch.mean(-y_train * torch.log(h) - (1 - y_train) * torch.log(1 - h))\n",
        "\n",
        "  # zero_grad 가 하는 것\n",
        "  # with torch.no_grad():\n",
        "  #   W = torch.FloatTensor([[0]])\n",
        "  #   b = torch.FloatTensor([[0]])\n",
        "\n",
        "\n",
        "  optim.zero_grad() # W, b 의 기울기 값 초기화\n",
        "  cost.backward() # 기울기 계산\n",
        "  optim.step() # W, b 갱신\n",
        "\n",
        "  with torch.no_grad():\n",
        "    if epoch % 100 == 0:\n",
        "      print(f\"W: {W.item()}, b = {b.item()}, cost: {cost}\")\n"
      ],
      "metadata": {
        "colab": {
          "base_uri": "https://localhost:8080/"
        },
        "id": "HPi_3jiRjuR1",
        "outputId": "5173028a-9a66-469f-e759-e7fc3aefa9e6"
      },
      "execution_count": 13,
      "outputs": [
        {
          "output_type": "stream",
          "name": "stdout",
          "text": [
            "W: 0.09126031398773193, b = 0.21060216426849365, cost: 1.4707950353622437\n",
            "W: -1.4545557498931885, b = 4.417044162750244, cost: 0.4200105667114258\n",
            "W: -1.9002681970596313, b = 5.77932596206665, cost: 0.39865779876708984\n",
            "W: -2.1755547523498535, b = 6.613277435302734, cost: 0.39079201221466064\n",
            "W: -2.3682236671447754, b = 7.194293975830078, cost: 0.38699379563331604\n",
            "W: -2.511303663253784, b = 7.624566078186035, cost: 0.3849157989025116\n",
            "W: -2.621307373046875, b = 7.954748630523682, cost: 0.3836936056613922\n",
            "W: -2.7078166007995605, b = 8.21406078338623, cost: 0.38294029235839844\n",
            "W: -2.7769341468811035, b = 8.421032905578613, cost: 0.38246071338653564\n",
            "W: -2.8327951431274414, b = 8.588181495666504, cost: 0.3821479380130768\n",
            "W: -2.8783364295959473, b = 8.72436809539795, cost: 0.38194045424461365\n",
            "W: -2.915714979171753, b = 8.836092948913574, cost: 0.3818008601665497\n",
            "W: -2.9465534687042236, b = 8.928234100341797, cost: 0.38170579075813293\n",
            "W: -2.972104549407959, b = 9.00455379486084, cost: 0.3816407024860382\n",
            "W: -2.993345260620117, b = 9.06798267364502, cost: 0.3815957009792328\n",
            "W: -3.011051654815674, b = 9.120845794677734, cost: 0.38156452775001526\n",
            "W: -3.025846242904663, b = 9.165008544921875, cost: 0.38154271245002747\n",
            "W: -3.038229465484619, b = 9.2019681930542, cost: 0.3815273344516754\n",
            "W: -3.0486090183258057, b = 9.232943534851074, cost: 0.381516695022583\n",
            "W: -3.057321071624756, b = 9.258940696716309, cost: 0.3815091550350189\n",
            "W: -3.0646402835845947, b = 9.280779838562012, cost: 0.38150379061698914\n",
            "W: -3.0707943439483643, b = 9.299140930175781, cost: 0.3815000057220459\n",
            "W: -3.0759737491607666, b = 9.314593315124512, cost: 0.3814973831176758\n",
            "W: -3.0803346633911133, b = 9.32760238647461, cost: 0.38149547576904297\n",
            "W: -3.0840086936950684, b = 9.33856201171875, cost: 0.38149407505989075\n",
            "W: -3.0871057510375977, b = 9.347801208496094, cost: 0.3814931809902191\n",
            "W: -3.089717149734497, b = 9.3555908203125, cost: 0.3814925253391266\n",
            "W: -3.091919183731079, b = 9.36215877532959, cost: 0.3814919888973236\n",
            "W: -3.0937771797180176, b = 9.367700576782227, cost: 0.38149169087409973\n",
            "W: -3.0953452587127686, b = 9.3723783493042, cost: 0.38149139285087585\n",
            "W: -3.0966689586639404, b = 9.376326560974121, cost: 0.38149118423461914\n"
          ]
        }
      ]
    },
    {
      "cell_type": "code",
      "source": [
        "import matplotlib.pyplot as plt\n",
        "\n",
        "plt.scatter(x_train, y_train)\n",
        "plt.show()"
      ],
      "metadata": {
        "colab": {
          "base_uri": "https://localhost:8080/",
          "height": 265
        },
        "id": "eZjgdNyolET7",
        "outputId": "7e6c5084-24fa-4843-db34-dd6a189adacb"
      },
      "execution_count": 14,
      "outputs": [
        {
          "output_type": "display_data",
          "data": {
            "text/plain": [
              "<Figure size 432x288 with 1 Axes>"
            ],
            "image/png": "[encoded data removed]"
          },
          "metadata": {
            "needs_background": "light"
          }
        }
      ]
    },
    {
      "cell_type": "code",
      "source": [
        "x_tmp = torch.linspace(0, 5, 100)\n",
        "print(x_tmp)"
      ],
      "metadata": {
        "colab": {
          "base_uri": "https://localhost:8080/"
        },
        "id": "ES--e9aDmRF-",
        "outputId": "565922d4-22f1-4a98-c25f-d51fc8165be3"
      },
      "execution_count": 16,
      "outputs": [
        {
          "output_type": "stream",
          "name": "stdout",
          "text": [
            "tensor([0.0000, 0.0505, 0.1010, 0.1515, 0.2020, 0.2525, 0.3030, 0.3535, 0.4040,\n",
            "        0.4545, 0.5051, 0.5556, 0.6061, 0.6566, 0.7071, 0.7576, 0.8081, 0.8586,\n",
            "        0.9091, 0.9596, 1.0101, 1.0606, 1.1111, 1.1616, 1.2121, 1.2626, 1.3131,\n",
            "        1.3636, 1.4141, 1.4646, 1.5152, 1.5657, 1.6162, 1.6667, 1.7172, 1.7677,\n",
            "        1.8182, 1.8687, 1.9192, 1.9697, 2.0202, 2.0707, 2.1212, 2.1717, 2.2222,\n",
            "        2.2727, 2.3232, 2.3737, 2.4242, 2.4747, 2.5253, 2.5758, 2.6263, 2.6768,\n",
            "        2.7273, 2.7778, 2.8283, 2.8788, 2.9293, 2.9798, 3.0303, 3.0808, 3.1313,\n",
            "        3.1818, 3.2323, 3.2828, 3.3333, 3.3838, 3.4343, 3.4848, 3.5354, 3.5859,\n",
            "        3.6364, 3.6869, 3.7374, 3.7879, 3.8384, 3.8889, 3.9394, 3.9899, 4.0404,\n",
            "        4.0909, 4.1414, 4.1919, 4.2424, 4.2929, 4.3434, 4.3939, 4.4444, 4.4949,\n",
            "        4.5455, 4.5960, 4.6465, 4.6970, 4.7475, 4.7980, 4.8485, 4.8990, 4.9495,\n",
            "        5.0000])\n"
          ]
        }
      ]
    },
    {
      "cell_type": "code",
      "source": [
        "# 다양한 사용법 : https://matplotlib.org/stable/tutorials/introductory/pyplot.html\n",
        "import matplotlib.pyplot as plt\n",
        "\n",
        "with torch.no_grad():\n",
        "  plt.scatter(x_train, y_train)\n",
        "\n",
        "  # 임의로 x 데이터 만들기, linspace-> 0부터 5까지 100으로 쪼개서 만들어라\n",
        "  x_tmp = torch.linspace(0, 5, 100).unsqueeze(1)\n",
        "  y_tmp = torch.sigmoid(torch.mm(x_tmp, W) + b)\n",
        "  # print(x_tmp)\n",
        "  # print(y_tmp)\n",
        "\n",
        "  # label 달기\n",
        "  plt.ylabel(\"Probability of 1 (Y)\")\n",
        "  plt.xlabel(\"Input (X)\")\n",
        "  \n",
        "  plt.plot(x_tmp, y_tmp, ':r')\n",
        "  plt.show()\n"
      ],
      "metadata": {
        "colab": {
          "base_uri": "https://localhost:8080/",
          "height": 279
        },
        "id": "E6HsGjKWl7_O",
        "outputId": "65fd0344-1ef1-4146-999f-bb2c27b5bbfd"
      },
      "execution_count": 17,
      "outputs": [
        {
          "output_type": "display_data",
          "data": {
            "text/plain": [
              "<Figure size 432x288 with 1 Axes>"
            ],
            "image/png": "[encoded data removed]"
          },
          "metadata": {
            "needs_background": "light"
          }
        }
      ]
    },
    {
      "cell_type": "markdown",
      "source": [
        "# sklearn에서 Logistic Regression 사용\n",
        " "
      ],
      "metadata": {
        "id": "JOHBJ3MNm3Fm"
      }
    },
    {
      "cell_type": "code",
      "source": [
        "from sklearn.linear_model import LogisticRegression\n",
        "\n",
        "x_train = [[1], [2], [3], [4], [5], [2.5], [3.5], [0], [3.1], [2.7], [2.8], [2.9]]\n",
        "y_train = [1, 1, 1, 0, 0, 0, 0, 1, 0, 1, 1, 1] # 입력 shape이 pytorch에서와 다름에 주의!\n",
        "\n",
        "# penalty 는 너무 큰 값이나 너무 작은 값에 주는건데 그거 안하겠다는 것\n",
        "model = LogisticRegression(penalty='none') # penalty (or regularization)은 추후 설명, reqularization을 안하겠다\n",
        "model.fit(x_train, y_train) #W와 b에 해당하는 값 출력 \n",
        "\n",
        "# 학습이 잘 되었는지 확인\n",
        "print(model.coef_, model.intercept_)\n",
        "\n",
        "# 새로운 x값이 주어질 때 y값 예측해보기 \n",
        "y = model.predict([[4.5],[1.1]]) \n",
        "print(y)"
      ],
      "metadata": {
        "colab": {
          "base_uri": "https://localhost:8080/"
        },
        "id": "VhGu4ckcmkJO",
        "outputId": "9665b8b3-fc71-4290-e777-d5c430dee7c6"
      },
      "execution_count": 18,
      "outputs": [
        {
          "output_type": "stream",
          "name": "stdout",
          "text": [
            "[[-3.10385806]] [9.39776831]\n",
            "[0 1]\n"
          ]
        }
      ]
    },
    {
      "cell_type": "code",
      "source": [],
      "metadata": {
        "id": "-12C-tLWpJOl"
      },
      "execution_count": null,
      "outputs": []
    }
  ]
}