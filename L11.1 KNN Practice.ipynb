{
  "nbformat": 4,
  "nbformat_minor": 0,
  "metadata": {
    "colab": {
      "provenance": []
    },
    "kernelspec": {
      "name": "python3",
      "display_name": "Python 3"
    },
    "language_info": {
      "name": "python"
    }
  },
  "cells": [
    {
      "cell_type": "markdown",
      "source": [
        "# 수업시간 실습 부분"
      ],
      "metadata": {
        "id": "GcyZcu_7nd6r"
      }
    },
    {
      "cell_type": "code",
      "execution_count": 1,
      "metadata": {
        "id": "h5xpSdMOdneS"
      },
      "outputs": [],
      "source": [
        "import pandas as pd"
      ]
    },
    {
      "cell_type": "code",
      "source": [
        "import matplotlib.pyplot as plt\n",
        "import random\n",
        "from tqdm import tqdm"
      ],
      "metadata": {
        "id": "-Vr5IlmZnO_J"
      },
      "execution_count": 3,
      "outputs": []
    },
    {
      "cell_type": "code",
      "source": [
        "data = []\n",
        "\n",
        "for line in open(\"iris.data\", \"r\"):\n",
        "  raw = line.split(',')\n",
        "  x = [float(r) for r in raw[:4]]\n",
        "  y = raw[4].strip()\n",
        "  data.append((x, y))\n"
      ],
      "metadata": {
        "id": "MH49KXKVf738"
      },
      "execution_count": 4,
      "outputs": []
    },
    {
      "cell_type": "code",
      "source": [
        "data"
      ],
      "metadata": {
        "colab": {
          "base_uri": "https://localhost:8080/"
        },
        "id": "r9Glx5QAgfcX",
        "outputId": "e79c21c4-acac-490f-f11a-ef9bc7abb463"
      },
      "execution_count": 5,
      "outputs": [
        {
          "output_type": "execute_result",
          "data": {
            "text/plain": [
              "[([5.1, 3.5, 1.4, 0.2], 'Iris-setosa'),\n",
              " ([4.9, 3.0, 1.4, 0.2], 'Iris-setosa'),\n",
              " ([4.7, 3.2, 1.3, 0.2], 'Iris-setosa'),\n",
              " ([4.6, 3.1, 1.5, 0.2], 'Iris-setosa'),\n",
              " ([5.0, 3.6, 1.4, 0.2], 'Iris-setosa'),\n",
              " ([5.4, 3.9, 1.7, 0.4], 'Iris-setosa'),\n",
              " ([4.6, 3.4, 1.4, 0.3], 'Iris-setosa'),\n",
              " ([5.0, 3.4, 1.5, 0.2], 'Iris-setosa'),\n",
              " ([4.4, 2.9, 1.4, 0.2], 'Iris-setosa'),\n",
              " ([4.9, 3.1, 1.5, 0.1], 'Iris-setosa'),\n",
              " ([5.4, 3.7, 1.5, 0.2], 'Iris-setosa'),\n",
              " ([4.8, 3.4, 1.6, 0.2], 'Iris-setosa'),\n",
              " ([4.8, 3.0, 1.4, 0.1], 'Iris-setosa'),\n",
              " ([4.3, 3.0, 1.1, 0.1], 'Iris-setosa'),\n",
              " ([5.8, 4.0, 1.2, 0.2], 'Iris-setosa'),\n",
              " ([5.7, 4.4, 1.5, 0.4], 'Iris-setosa'),\n",
              " ([5.4, 3.9, 1.3, 0.4], 'Iris-setosa'),\n",
              " ([5.1, 3.5, 1.4, 0.3], 'Iris-setosa'),\n",
              " ([5.7, 3.8, 1.7, 0.3], 'Iris-setosa'),\n",
              " ([5.1, 3.8, 1.5, 0.3], 'Iris-setosa'),\n",
              " ([5.4, 3.4, 1.7, 0.2], 'Iris-setosa'),\n",
              " ([5.1, 3.7, 1.5, 0.4], 'Iris-setosa'),\n",
              " ([4.6, 3.6, 1.0, 0.2], 'Iris-setosa'),\n",
              " ([5.1, 3.3, 1.7, 0.5], 'Iris-setosa'),\n",
              " ([4.8, 3.4, 1.9, 0.2], 'Iris-setosa'),\n",
              " ([5.0, 3.0, 1.6, 0.2], 'Iris-setosa'),\n",
              " ([5.0, 3.4, 1.6, 0.4], 'Iris-setosa'),\n",
              " ([5.2, 3.5, 1.5, 0.2], 'Iris-setosa'),\n",
              " ([5.2, 3.4, 1.4, 0.2], 'Iris-setosa'),\n",
              " ([4.7, 3.2, 1.6, 0.2], 'Iris-setosa'),\n",
              " ([4.8, 3.1, 1.6, 0.2], 'Iris-setosa'),\n",
              " ([5.4, 3.4, 1.5, 0.4], 'Iris-setosa'),\n",
              " ([5.2, 4.1, 1.5, 0.1], 'Iris-setosa'),\n",
              " ([5.5, 4.2, 1.4, 0.2], 'Iris-setosa'),\n",
              " ([4.9, 3.1, 1.5, 0.1], 'Iris-setosa'),\n",
              " ([5.0, 3.2, 1.2, 0.2], 'Iris-setosa'),\n",
              " ([5.5, 3.5, 1.3, 0.2], 'Iris-setosa'),\n",
              " ([4.9, 3.1, 1.5, 0.1], 'Iris-setosa'),\n",
              " ([4.4, 3.0, 1.3, 0.2], 'Iris-setosa'),\n",
              " ([5.1, 3.4, 1.5, 0.2], 'Iris-setosa'),\n",
              " ([5.0, 3.5, 1.3, 0.3], 'Iris-setosa'),\n",
              " ([4.5, 2.3, 1.3, 0.3], 'Iris-setosa'),\n",
              " ([4.4, 3.2, 1.3, 0.2], 'Iris-setosa'),\n",
              " ([5.0, 3.5, 1.6, 0.6], 'Iris-setosa'),\n",
              " ([5.1, 3.8, 1.9, 0.4], 'Iris-setosa'),\n",
              " ([4.8, 3.0, 1.4, 0.3], 'Iris-setosa'),\n",
              " ([5.1, 3.8, 1.6, 0.2], 'Iris-setosa'),\n",
              " ([4.6, 3.2, 1.4, 0.2], 'Iris-setosa'),\n",
              " ([5.3, 3.7, 1.5, 0.2], 'Iris-setosa'),\n",
              " ([5.0, 3.3, 1.4, 0.2], 'Iris-setosa'),\n",
              " ([7.0, 3.2, 4.7, 1.4], 'Iris-versicolor'),\n",
              " ([6.4, 3.2, 4.5, 1.5], 'Iris-versicolor'),\n",
              " ([6.9, 3.1, 4.9, 1.5], 'Iris-versicolor'),\n",
              " ([5.5, 2.3, 4.0, 1.3], 'Iris-versicolor'),\n",
              " ([6.5, 2.8, 4.6, 1.5], 'Iris-versicolor'),\n",
              " ([5.7, 2.8, 4.5, 1.3], 'Iris-versicolor'),\n",
              " ([6.3, 3.3, 4.7, 1.6], 'Iris-versicolor'),\n",
              " ([4.9, 2.4, 3.3, 1.0], 'Iris-versicolor'),\n",
              " ([6.6, 2.9, 4.6, 1.3], 'Iris-versicolor'),\n",
              " ([5.2, 2.7, 3.9, 1.4], 'Iris-versicolor'),\n",
              " ([5.0, 2.0, 3.5, 1.0], 'Iris-versicolor'),\n",
              " ([5.9, 3.0, 4.2, 1.5], 'Iris-versicolor'),\n",
              " ([6.0, 2.2, 4.0, 1.0], 'Iris-versicolor'),\n",
              " ([6.1, 2.9, 4.7, 1.4], 'Iris-versicolor'),\n",
              " ([5.6, 2.9, 3.6, 1.3], 'Iris-versicolor'),\n",
              " ([6.7, 3.1, 4.4, 1.4], 'Iris-versicolor'),\n",
              " ([5.6, 3.0, 4.5, 1.5], 'Iris-versicolor'),\n",
              " ([5.8, 2.7, 4.1, 1.0], 'Iris-versicolor'),\n",
              " ([6.2, 2.2, 4.5, 1.5], 'Iris-versicolor'),\n",
              " ([5.6, 2.5, 3.9, 1.1], 'Iris-versicolor'),\n",
              " ([5.9, 3.2, 4.8, 1.8], 'Iris-versicolor'),\n",
              " ([6.1, 2.8, 4.0, 1.3], 'Iris-versicolor'),\n",
              " ([6.3, 2.5, 4.9, 1.5], 'Iris-versicolor'),\n",
              " ([6.1, 2.8, 4.7, 1.2], 'Iris-versicolor'),\n",
              " ([6.4, 2.9, 4.3, 1.3], 'Iris-versicolor'),\n",
              " ([6.6, 3.0, 4.4, 1.4], 'Iris-versicolor'),\n",
              " ([6.8, 2.8, 4.8, 1.4], 'Iris-versicolor'),\n",
              " ([6.7, 3.0, 5.0, 1.7], 'Iris-versicolor'),\n",
              " ([6.0, 2.9, 4.5, 1.5], 'Iris-versicolor'),\n",
              " ([5.7, 2.6, 3.5, 1.0], 'Iris-versicolor'),\n",
              " ([5.5, 2.4, 3.8, 1.1], 'Iris-versicolor'),\n",
              " ([5.5, 2.4, 3.7, 1.0], 'Iris-versicolor'),\n",
              " ([5.8, 2.7, 3.9, 1.2], 'Iris-versicolor'),\n",
              " ([6.0, 2.7, 5.1, 1.6], 'Iris-versicolor'),\n",
              " ([5.4, 3.0, 4.5, 1.5], 'Iris-versicolor'),\n",
              " ([6.0, 3.4, 4.5, 1.6], 'Iris-versicolor'),\n",
              " ([6.7, 3.1, 4.7, 1.5], 'Iris-versicolor'),\n",
              " ([6.3, 2.3, 4.4, 1.3], 'Iris-versicolor'),\n",
              " ([5.6, 3.0, 4.1, 1.3], 'Iris-versicolor'),\n",
              " ([5.5, 2.5, 4.0, 1.3], 'Iris-versicolor'),\n",
              " ([5.5, 2.6, 4.4, 1.2], 'Iris-versicolor'),\n",
              " ([6.1, 3.0, 4.6, 1.4], 'Iris-versicolor'),\n",
              " ([5.8, 2.6, 4.0, 1.2], 'Iris-versicolor'),\n",
              " ([5.0, 2.3, 3.3, 1.0], 'Iris-versicolor'),\n",
              " ([5.6, 2.7, 4.2, 1.3], 'Iris-versicolor'),\n",
              " ([5.7, 3.0, 4.2, 1.2], 'Iris-versicolor'),\n",
              " ([5.7, 2.9, 4.2, 1.3], 'Iris-versicolor'),\n",
              " ([6.2, 2.9, 4.3, 1.3], 'Iris-versicolor'),\n",
              " ([5.1, 2.5, 3.0, 1.1], 'Iris-versicolor'),\n",
              " ([5.7, 2.8, 4.1, 1.3], 'Iris-versicolor'),\n",
              " ([6.3, 3.3, 6.0, 2.5], 'Iris-virginica'),\n",
              " ([5.8, 2.7, 5.1, 1.9], 'Iris-virginica'),\n",
              " ([7.1, 3.0, 5.9, 2.1], 'Iris-virginica'),\n",
              " ([6.3, 2.9, 5.6, 1.8], 'Iris-virginica'),\n",
              " ([6.5, 3.0, 5.8, 2.2], 'Iris-virginica'),\n",
              " ([7.6, 3.0, 6.6, 2.1], 'Iris-virginica'),\n",
              " ([4.9, 2.5, 4.5, 1.7], 'Iris-virginica'),\n",
              " ([7.3, 2.9, 6.3, 1.8], 'Iris-virginica'),\n",
              " ([6.7, 2.5, 5.8, 1.8], 'Iris-virginica'),\n",
              " ([7.2, 3.6, 6.1, 2.5], 'Iris-virginica'),\n",
              " ([6.5, 3.2, 5.1, 2.0], 'Iris-virginica'),\n",
              " ([6.4, 2.7, 5.3, 1.9], 'Iris-virginica'),\n",
              " ([6.8, 3.0, 5.5, 2.1], 'Iris-virginica'),\n",
              " ([5.7, 2.5, 5.0, 2.0], 'Iris-virginica'),\n",
              " ([5.8, 2.8, 5.1, 2.4], 'Iris-virginica'),\n",
              " ([6.4, 3.2, 5.3, 2.3], 'Iris-virginica'),\n",
              " ([6.5, 3.0, 5.5, 1.8], 'Iris-virginica'),\n",
              " ([7.7, 3.8, 6.7, 2.2], 'Iris-virginica'),\n",
              " ([7.7, 2.6, 6.9, 2.3], 'Iris-virginica'),\n",
              " ([6.0, 2.2, 5.0, 1.5], 'Iris-virginica'),\n",
              " ([6.9, 3.2, 5.7, 2.3], 'Iris-virginica'),\n",
              " ([5.6, 2.8, 4.9, 2.0], 'Iris-virginica'),\n",
              " ([7.7, 2.8, 6.7, 2.0], 'Iris-virginica'),\n",
              " ([6.3, 2.7, 4.9, 1.8], 'Iris-virginica'),\n",
              " ([6.7, 3.3, 5.7, 2.1], 'Iris-virginica'),\n",
              " ([7.2, 3.2, 6.0, 1.8], 'Iris-virginica'),\n",
              " ([6.2, 2.8, 4.8, 1.8], 'Iris-virginica'),\n",
              " ([6.1, 3.0, 4.9, 1.8], 'Iris-virginica'),\n",
              " ([6.4, 2.8, 5.6, 2.1], 'Iris-virginica'),\n",
              " ([7.2, 3.0, 5.8, 1.6], 'Iris-virginica'),\n",
              " ([7.4, 2.8, 6.1, 1.9], 'Iris-virginica'),\n",
              " ([7.9, 3.8, 6.4, 2.0], 'Iris-virginica'),\n",
              " ([6.4, 2.8, 5.6, 2.2], 'Iris-virginica'),\n",
              " ([6.3, 2.8, 5.1, 1.5], 'Iris-virginica'),\n",
              " ([6.1, 2.6, 5.6, 1.4], 'Iris-virginica'),\n",
              " ([7.7, 3.0, 6.1, 2.3], 'Iris-virginica'),\n",
              " ([6.3, 3.4, 5.6, 2.4], 'Iris-virginica'),\n",
              " ([6.4, 3.1, 5.5, 1.8], 'Iris-virginica'),\n",
              " ([6.0, 3.0, 4.8, 1.8], 'Iris-virginica'),\n",
              " ([6.9, 3.1, 5.4, 2.1], 'Iris-virginica'),\n",
              " ([6.7, 3.1, 5.6, 2.4], 'Iris-virginica'),\n",
              " ([6.9, 3.1, 5.1, 2.3], 'Iris-virginica'),\n",
              " ([5.8, 2.7, 5.1, 1.9], 'Iris-virginica'),\n",
              " ([6.8, 3.2, 5.9, 2.3], 'Iris-virginica'),\n",
              " ([6.7, 3.3, 5.7, 2.5], 'Iris-virginica'),\n",
              " ([6.7, 3.0, 5.2, 2.3], 'Iris-virginica'),\n",
              " ([6.3, 2.5, 5.0, 1.9], 'Iris-virginica'),\n",
              " ([6.5, 3.0, 5.2, 2.0], 'Iris-virginica'),\n",
              " ([6.2, 3.4, 5.4, 2.3], 'Iris-virginica'),\n",
              " ([5.9, 3.0, 5.1, 1.8], 'Iris-virginica')]"
            ]
          },
          "metadata": {},
          "execution_count": 5
        }
      ]
    },
    {
      "cell_type": "code",
      "source": [
        "# 두 방식 모두 가능\n",
        "\n",
        "def distance(a, b):\n",
        "\n",
        "  s = 0\n",
        "  for x, y in zip(a, b):\n",
        "    s += (x-y) ** 2\n",
        "\n",
        "  return s ** 0.5\n",
        "\n",
        "def distance2(a, b):\n",
        "  return sum((x-y)**2 for x, y in zip(a, b)) ** 0.5"
      ],
      "metadata": {
        "id": "SEZI7PyNhW6W"
      },
      "execution_count": 6,
      "outputs": []
    },
    {
      "cell_type": "code",
      "source": [
        "a = distance(data[0][0], data[1][0])\n",
        "a"
      ],
      "metadata": {
        "colab": {
          "base_uri": "https://localhost:8080/"
        },
        "id": "Kb1aH9Xsh7zW",
        "outputId": "48095dfc-f556-4fef-c4ad-f6679ddf7d4d"
      },
      "execution_count": 7,
      "outputs": [
        {
          "output_type": "execute_result",
          "data": {
            "text/plain": [
              "0.5385164807134502"
            ]
          },
          "metadata": {},
          "execution_count": 7
        }
      ]
    },
    {
      "cell_type": "code",
      "source": [
        "from collections import Counter\n",
        "\n",
        "def knn_classify(k, query, train):\n",
        "  # query = [5.9, 3.0, 5.1, 1.8]\n",
        "  # train = ([6.5, 3.0, 5.2, 2.0], 'Iris-virginica')\n",
        "\n",
        "  res = sorted([(distance(query, v), l)for v, l in train])[:k]\n",
        "  cnts = Counter(r[1] for r in res)\n",
        "  mc = cnts.most_common(2)\n",
        "\n",
        "  # 동률을 처리하기 위해 \n",
        "  while len(cnts) >=2 and mc[0][1] == mc[1][1]:\n",
        "    res = res[:-1]\n",
        "    cnts = Counter(r[1] for r in res)\n",
        "    mc = cnts.most_common(2)\n",
        "\n",
        "  return cnts.most_common(1)[0][0]\n",
        "\n",
        "\n",
        "knn_classify(10, [5.5, 3.1, 5.0, 1.7], data)"
      ],
      "metadata": {
        "colab": {
          "base_uri": "https://localhost:8080/",
          "height": 36
        },
        "id": "cMyV7TUuiLBM",
        "outputId": "b37c30e5-6bc5-4d63-cfd8-6f556e71dcca"
      },
      "execution_count": 8,
      "outputs": [
        {
          "output_type": "execute_result",
          "data": {
            "text/plain": [
              "'Iris-virginica'"
            ],
            "application/vnd.google.colaboratory.intrinsic+json": {
              "type": "string"
            }
          },
          "metadata": {},
          "execution_count": 8
        }
      ]
    },
    {
      "cell_type": "code",
      "source": [
        "import matplotlib.pyplot as plt\n",
        "\n",
        "# 굉장히 비효율적이지만 한 번 해보자 !\n",
        "\n",
        "\n",
        "# 정확도 넣기\n",
        "Y = []\n",
        "# k 값 넣기\n",
        "X = []\n",
        "\n",
        "for k in range(1, 50):\n",
        "  n_correct = 0\n",
        "  n_incorrect = 0\n",
        "\n",
        "  for i, q in enumerate(data):\n",
        "    new_data = []\n",
        "    for j, d in enumerate(data):\n",
        "      if i == j: continue\n",
        "      new_data.append(d)\n",
        "    \n",
        "    ans = knn_classify(k, q[0], new_data)\n",
        "    true_ans = q[1]\n",
        "    if (ans == true_ans): n_correct += 1\n",
        "    else: n_incorrect += 1\n",
        "\n",
        "  X.append(k)\n",
        "  Y.append(n_correct / (n_correct + n_incorrect))\n",
        "\n",
        "\n",
        "plt.plot(X, Y)\n",
        "plt.show()\n"
      ],
      "metadata": {
        "colab": {
          "base_uri": "https://localhost:8080/",
          "height": 265
        },
        "id": "WAvJ52aokv7y",
        "outputId": "ad8b7f9c-58c0-4255-98ef-96addb2f41ec"
      },
      "execution_count": 9,
      "outputs": [
        {
          "output_type": "display_data",
          "data": {
            "text/plain": [
              "<Figure size 432x288 with 1 Axes>"
            ],
            "image/png": "[encoded data removed]"
          },
          "metadata": {
            "needs_background": "light"
          }
        }
      ]
    },
    {
      "cell_type": "markdown",
      "source": [
        "# PDF 보고 학습한 부분"
      ],
      "metadata": {
        "id": "2F9EEsFynhh3"
      }
    },
    {
      "cell_type": "code",
      "source": [
        "data = []\n",
        "with open('iris.data', 'r') as f:\n",
        "   for line in f:\n",
        "       if line.strip():\n",
        "           item = line.strip().split(\",\")\n",
        "           data.append( ([float(val) for val in item[:-1]], item[-1]) )\n",
        "\n",
        "species = {s: i for i, s in enumerate(set(d[1] for d in data))}\n",
        "\n",
        "data = [(d[0], species[d[1]]) for d in data]"
      ],
      "metadata": {
        "id": "r-1xm9pUnA81"
      },
      "execution_count": 10,
      "outputs": []
    },
    {
      "cell_type": "code",
      "source": [
        "data"
      ],
      "metadata": {
        "colab": {
          "base_uri": "https://localhost:8080/"
        },
        "id": "ruvcb8rwnqH9",
        "outputId": "279d744f-fcff-4fe1-b80a-7d19cca26e02"
      },
      "execution_count": 11,
      "outputs": [
        {
          "output_type": "execute_result",
          "data": {
            "text/plain": [
              "[([5.1, 3.5, 1.4, 0.2], 1),\n",
              " ([4.9, 3.0, 1.4, 0.2], 1),\n",
              " ([4.7, 3.2, 1.3, 0.2], 1),\n",
              " ([4.6, 3.1, 1.5, 0.2], 1),\n",
              " ([5.0, 3.6, 1.4, 0.2], 1),\n",
              " ([5.4, 3.9, 1.7, 0.4], 1),\n",
              " ([4.6, 3.4, 1.4, 0.3], 1),\n",
              " ([5.0, 3.4, 1.5, 0.2], 1),\n",
              " ([4.4, 2.9, 1.4, 0.2], 1),\n",
              " ([4.9, 3.1, 1.5, 0.1], 1),\n",
              " ([5.4, 3.7, 1.5, 0.2], 1),\n",
              " ([4.8, 3.4, 1.6, 0.2], 1),\n",
              " ([4.8, 3.0, 1.4, 0.1], 1),\n",
              " ([4.3, 3.0, 1.1, 0.1], 1),\n",
              " ([5.8, 4.0, 1.2, 0.2], 1),\n",
              " ([5.7, 4.4, 1.5, 0.4], 1),\n",
              " ([5.4, 3.9, 1.3, 0.4], 1),\n",
              " ([5.1, 3.5, 1.4, 0.3], 1),\n",
              " ([5.7, 3.8, 1.7, 0.3], 1),\n",
              " ([5.1, 3.8, 1.5, 0.3], 1),\n",
              " ([5.4, 3.4, 1.7, 0.2], 1),\n",
              " ([5.1, 3.7, 1.5, 0.4], 1),\n",
              " ([4.6, 3.6, 1.0, 0.2], 1),\n",
              " ([5.1, 3.3, 1.7, 0.5], 1),\n",
              " ([4.8, 3.4, 1.9, 0.2], 1),\n",
              " ([5.0, 3.0, 1.6, 0.2], 1),\n",
              " ([5.0, 3.4, 1.6, 0.4], 1),\n",
              " ([5.2, 3.5, 1.5, 0.2], 1),\n",
              " ([5.2, 3.4, 1.4, 0.2], 1),\n",
              " ([4.7, 3.2, 1.6, 0.2], 1),\n",
              " ([4.8, 3.1, 1.6, 0.2], 1),\n",
              " ([5.4, 3.4, 1.5, 0.4], 1),\n",
              " ([5.2, 4.1, 1.5, 0.1], 1),\n",
              " ([5.5, 4.2, 1.4, 0.2], 1),\n",
              " ([4.9, 3.1, 1.5, 0.1], 1),\n",
              " ([5.0, 3.2, 1.2, 0.2], 1),\n",
              " ([5.5, 3.5, 1.3, 0.2], 1),\n",
              " ([4.9, 3.1, 1.5, 0.1], 1),\n",
              " ([4.4, 3.0, 1.3, 0.2], 1),\n",
              " ([5.1, 3.4, 1.5, 0.2], 1),\n",
              " ([5.0, 3.5, 1.3, 0.3], 1),\n",
              " ([4.5, 2.3, 1.3, 0.3], 1),\n",
              " ([4.4, 3.2, 1.3, 0.2], 1),\n",
              " ([5.0, 3.5, 1.6, 0.6], 1),\n",
              " ([5.1, 3.8, 1.9, 0.4], 1),\n",
              " ([4.8, 3.0, 1.4, 0.3], 1),\n",
              " ([5.1, 3.8, 1.6, 0.2], 1),\n",
              " ([4.6, 3.2, 1.4, 0.2], 1),\n",
              " ([5.3, 3.7, 1.5, 0.2], 1),\n",
              " ([5.0, 3.3, 1.4, 0.2], 1),\n",
              " ([7.0, 3.2, 4.7, 1.4], 2),\n",
              " ([6.4, 3.2, 4.5, 1.5], 2),\n",
              " ([6.9, 3.1, 4.9, 1.5], 2),\n",
              " ([5.5, 2.3, 4.0, 1.3], 2),\n",
              " ([6.5, 2.8, 4.6, 1.5], 2),\n",
              " ([5.7, 2.8, 4.5, 1.3], 2),\n",
              " ([6.3, 3.3, 4.7, 1.6], 2),\n",
              " ([4.9, 2.4, 3.3, 1.0], 2),\n",
              " ([6.6, 2.9, 4.6, 1.3], 2),\n",
              " ([5.2, 2.7, 3.9, 1.4], 2),\n",
              " ([5.0, 2.0, 3.5, 1.0], 2),\n",
              " ([5.9, 3.0, 4.2, 1.5], 2),\n",
              " ([6.0, 2.2, 4.0, 1.0], 2),\n",
              " ([6.1, 2.9, 4.7, 1.4], 2),\n",
              " ([5.6, 2.9, 3.6, 1.3], 2),\n",
              " ([6.7, 3.1, 4.4, 1.4], 2),\n",
              " ([5.6, 3.0, 4.5, 1.5], 2),\n",
              " ([5.8, 2.7, 4.1, 1.0], 2),\n",
              " ([6.2, 2.2, 4.5, 1.5], 2),\n",
              " ([5.6, 2.5, 3.9, 1.1], 2),\n",
              " ([5.9, 3.2, 4.8, 1.8], 2),\n",
              " ([6.1, 2.8, 4.0, 1.3], 2),\n",
              " ([6.3, 2.5, 4.9, 1.5], 2),\n",
              " ([6.1, 2.8, 4.7, 1.2], 2),\n",
              " ([6.4, 2.9, 4.3, 1.3], 2),\n",
              " ([6.6, 3.0, 4.4, 1.4], 2),\n",
              " ([6.8, 2.8, 4.8, 1.4], 2),\n",
              " ([6.7, 3.0, 5.0, 1.7], 2),\n",
              " ([6.0, 2.9, 4.5, 1.5], 2),\n",
              " ([5.7, 2.6, 3.5, 1.0], 2),\n",
              " ([5.5, 2.4, 3.8, 1.1], 2),\n",
              " ([5.5, 2.4, 3.7, 1.0], 2),\n",
              " ([5.8, 2.7, 3.9, 1.2], 2),\n",
              " ([6.0, 2.7, 5.1, 1.6], 2),\n",
              " ([5.4, 3.0, 4.5, 1.5], 2),\n",
              " ([6.0, 3.4, 4.5, 1.6], 2),\n",
              " ([6.7, 3.1, 4.7, 1.5], 2),\n",
              " ([6.3, 2.3, 4.4, 1.3], 2),\n",
              " ([5.6, 3.0, 4.1, 1.3], 2),\n",
              " ([5.5, 2.5, 4.0, 1.3], 2),\n",
              " ([5.5, 2.6, 4.4, 1.2], 2),\n",
              " ([6.1, 3.0, 4.6, 1.4], 2),\n",
              " ([5.8, 2.6, 4.0, 1.2], 2),\n",
              " ([5.0, 2.3, 3.3, 1.0], 2),\n",
              " ([5.6, 2.7, 4.2, 1.3], 2),\n",
              " ([5.7, 3.0, 4.2, 1.2], 2),\n",
              " ([5.7, 2.9, 4.2, 1.3], 2),\n",
              " ([6.2, 2.9, 4.3, 1.3], 2),\n",
              " ([5.1, 2.5, 3.0, 1.1], 2),\n",
              " ([5.7, 2.8, 4.1, 1.3], 2),\n",
              " ([6.3, 3.3, 6.0, 2.5], 0),\n",
              " ([5.8, 2.7, 5.1, 1.9], 0),\n",
              " ([7.1, 3.0, 5.9, 2.1], 0),\n",
              " ([6.3, 2.9, 5.6, 1.8], 0),\n",
              " ([6.5, 3.0, 5.8, 2.2], 0),\n",
              " ([7.6, 3.0, 6.6, 2.1], 0),\n",
              " ([4.9, 2.5, 4.5, 1.7], 0),\n",
              " ([7.3, 2.9, 6.3, 1.8], 0),\n",
              " ([6.7, 2.5, 5.8, 1.8], 0),\n",
              " ([7.2, 3.6, 6.1, 2.5], 0),\n",
              " ([6.5, 3.2, 5.1, 2.0], 0),\n",
              " ([6.4, 2.7, 5.3, 1.9], 0),\n",
              " ([6.8, 3.0, 5.5, 2.1], 0),\n",
              " ([5.7, 2.5, 5.0, 2.0], 0),\n",
              " ([5.8, 2.8, 5.1, 2.4], 0),\n",
              " ([6.4, 3.2, 5.3, 2.3], 0),\n",
              " ([6.5, 3.0, 5.5, 1.8], 0),\n",
              " ([7.7, 3.8, 6.7, 2.2], 0),\n",
              " ([7.7, 2.6, 6.9, 2.3], 0),\n",
              " ([6.0, 2.2, 5.0, 1.5], 0),\n",
              " ([6.9, 3.2, 5.7, 2.3], 0),\n",
              " ([5.6, 2.8, 4.9, 2.0], 0),\n",
              " ([7.7, 2.8, 6.7, 2.0], 0),\n",
              " ([6.3, 2.7, 4.9, 1.8], 0),\n",
              " ([6.7, 3.3, 5.7, 2.1], 0),\n",
              " ([7.2, 3.2, 6.0, 1.8], 0),\n",
              " ([6.2, 2.8, 4.8, 1.8], 0),\n",
              " ([6.1, 3.0, 4.9, 1.8], 0),\n",
              " ([6.4, 2.8, 5.6, 2.1], 0),\n",
              " ([7.2, 3.0, 5.8, 1.6], 0),\n",
              " ([7.4, 2.8, 6.1, 1.9], 0),\n",
              " ([7.9, 3.8, 6.4, 2.0], 0),\n",
              " ([6.4, 2.8, 5.6, 2.2], 0),\n",
              " ([6.3, 2.8, 5.1, 1.5], 0),\n",
              " ([6.1, 2.6, 5.6, 1.4], 0),\n",
              " ([7.7, 3.0, 6.1, 2.3], 0),\n",
              " ([6.3, 3.4, 5.6, 2.4], 0),\n",
              " ([6.4, 3.1, 5.5, 1.8], 0),\n",
              " ([6.0, 3.0, 4.8, 1.8], 0),\n",
              " ([6.9, 3.1, 5.4, 2.1], 0),\n",
              " ([6.7, 3.1, 5.6, 2.4], 0),\n",
              " ([6.9, 3.1, 5.1, 2.3], 0),\n",
              " ([5.8, 2.7, 5.1, 1.9], 0),\n",
              " ([6.8, 3.2, 5.9, 2.3], 0),\n",
              " ([6.7, 3.3, 5.7, 2.5], 0),\n",
              " ([6.7, 3.0, 5.2, 2.3], 0),\n",
              " ([6.3, 2.5, 5.0, 1.9], 0),\n",
              " ([6.5, 3.0, 5.2, 2.0], 0),\n",
              " ([6.2, 3.4, 5.4, 2.3], 0),\n",
              " ([5.9, 3.0, 5.1, 1.8], 0)]"
            ]
          },
          "metadata": {},
          "execution_count": 11
        }
      ]
    },
    {
      "cell_type": "code",
      "source": [
        "plt.scatter([d[0][0] for d in data], [d[0][1] for d in data], c = [d[1] for d in data], alpha = 0.3)\n",
        "plt.show()"
      ],
      "metadata": {
        "colab": {
          "base_uri": "https://localhost:8080/",
          "height": 268
        },
        "id": "xrNJcYmknrnT",
        "outputId": "4acb386d-aa6d-4c59-93df-fbeff298403f"
      },
      "execution_count": 12,
      "outputs": [
        {
          "output_type": "display_data",
          "data": {
            "text/plain": [
              "<Figure size 432x288 with 1 Axes>"
            ],
            "image/png": "[encoded data removed]"
          },
          "metadata": {
            "needs_background": "light"
          }
        }
      ]
    },
    {
      "cell_type": "code",
      "source": [
        "# train data와 test data로 분리\n",
        "\n",
        "random.shuffle(data)\n",
        "\n",
        "train = data[:-30]\n",
        "test = data[-30:]"
      ],
      "metadata": {
        "id": "fGg4FZMGn9nJ"
      },
      "execution_count": 13,
      "outputs": []
    },
    {
      "cell_type": "code",
      "source": [
        "print(train)\n",
        "print(test)"
      ],
      "metadata": {
        "colab": {
          "base_uri": "https://localhost:8080/"
        },
        "id": "LiSBw3FxoCuV",
        "outputId": "9fde4643-bb42-490f-b629-7eb370233c51"
      },
      "execution_count": 14,
      "outputs": [
        {
          "output_type": "stream",
          "name": "stdout",
          "text": [
            "[([4.8, 3.1, 1.6, 0.2], 1), ([6.4, 2.7, 5.3, 1.9], 0), ([5.4, 3.4, 1.5, 0.4], 1), ([5.1, 3.5, 1.4, 0.2], 1), ([6.2, 2.9, 4.3, 1.3], 2), ([4.3, 3.0, 1.1, 0.1], 1), ([6.0, 3.0, 4.8, 1.8], 0), ([6.4, 2.9, 4.3, 1.3], 2), ([5.8, 2.7, 3.9, 1.2], 2), ([4.9, 3.1, 1.5, 0.1], 1), ([4.4, 2.9, 1.4, 0.2], 1), ([4.6, 3.6, 1.0, 0.2], 1), ([6.0, 2.7, 5.1, 1.6], 2), ([4.8, 3.0, 1.4, 0.3], 1), ([7.9, 3.8, 6.4, 2.0], 0), ([6.7, 3.1, 5.6, 2.4], 0), ([6.7, 3.3, 5.7, 2.1], 0), ([6.5, 3.0, 5.5, 1.8], 0), ([6.7, 3.0, 5.2, 2.3], 0), ([5.5, 2.4, 3.8, 1.1], 2), ([6.4, 3.2, 4.5, 1.5], 2), ([5.0, 3.3, 1.4, 0.2], 1), ([6.3, 2.5, 4.9, 1.5], 2), ([5.7, 2.6, 3.5, 1.0], 2), ([7.7, 2.8, 6.7, 2.0], 0), ([5.9, 3.0, 4.2, 1.5], 2), ([5.2, 2.7, 3.9, 1.4], 2), ([5.7, 2.8, 4.1, 1.3], 2), ([6.8, 2.8, 4.8, 1.4], 2), ([6.3, 2.5, 5.0, 1.9], 0), ([4.8, 3.0, 1.4, 0.1], 1), ([7.4, 2.8, 6.1, 1.9], 0), ([5.2, 4.1, 1.5, 0.1], 1), ([6.5, 2.8, 4.6, 1.5], 2), ([5.4, 3.9, 1.7, 0.4], 1), ([5.7, 2.5, 5.0, 2.0], 0), ([5.8, 2.7, 4.1, 1.0], 2), ([6.2, 2.2, 4.5, 1.5], 2), ([6.9, 3.2, 5.7, 2.3], 0), ([6.3, 2.3, 4.4, 1.3], 2), ([6.2, 3.4, 5.4, 2.3], 0), ([6.9, 3.1, 5.4, 2.1], 0), ([6.5, 3.2, 5.1, 2.0], 0), ([7.7, 3.8, 6.7, 2.2], 0), ([5.0, 3.0, 1.6, 0.2], 1), ([6.0, 2.2, 4.0, 1.0], 2), ([5.9, 3.2, 4.8, 1.8], 2), ([5.4, 3.4, 1.7, 0.2], 1), ([6.2, 2.8, 4.8, 1.8], 0), ([6.8, 3.0, 5.5, 2.1], 0), ([6.0, 2.2, 5.0, 1.5], 0), ([5.1, 3.4, 1.5, 0.2], 1), ([5.5, 2.3, 4.0, 1.3], 2), ([5.6, 3.0, 4.5, 1.5], 2), ([6.6, 2.9, 4.6, 1.3], 2), ([6.3, 3.3, 6.0, 2.5], 0), ([5.5, 2.5, 4.0, 1.3], 2), ([6.1, 3.0, 4.6, 1.4], 2), ([7.3, 2.9, 6.3, 1.8], 0), ([5.1, 2.5, 3.0, 1.1], 2), ([6.3, 3.3, 4.7, 1.6], 2), ([6.1, 2.8, 4.7, 1.2], 2), ([5.0, 3.5, 1.6, 0.6], 1), ([5.9, 3.0, 5.1, 1.8], 0), ([5.0, 2.0, 3.5, 1.0], 2), ([6.9, 3.1, 5.1, 2.3], 0), ([5.1, 3.8, 1.6, 0.2], 1), ([5.7, 4.4, 1.5, 0.4], 1), ([5.4, 3.0, 4.5, 1.5], 2), ([4.9, 2.5, 4.5, 1.7], 0), ([6.8, 3.2, 5.9, 2.3], 0), ([6.1, 3.0, 4.9, 1.8], 0), ([5.0, 3.6, 1.4, 0.2], 1), ([7.7, 3.0, 6.1, 2.3], 0), ([5.6, 2.7, 4.2, 1.3], 2), ([6.5, 3.0, 5.2, 2.0], 0), ([4.6, 3.2, 1.4, 0.2], 1), ([6.1, 2.6, 5.6, 1.4], 0), ([6.1, 2.9, 4.7, 1.4], 2), ([5.6, 2.5, 3.9, 1.1], 2), ([5.7, 3.8, 1.7, 0.3], 1), ([6.0, 3.4, 4.5, 1.6], 2), ([4.8, 3.4, 1.6, 0.2], 1), ([5.7, 2.9, 4.2, 1.3], 2), ([7.0, 3.2, 4.7, 1.4], 2), ([6.4, 3.2, 5.3, 2.3], 0), ([5.8, 2.6, 4.0, 1.2], 2), ([5.1, 3.3, 1.7, 0.5], 1), ([5.0, 3.5, 1.3, 0.3], 1), ([6.7, 3.1, 4.7, 1.5], 2), ([5.5, 4.2, 1.4, 0.2], 1), ([4.9, 2.4, 3.3, 1.0], 2), ([5.8, 2.7, 5.1, 1.9], 0), ([4.4, 3.2, 1.3, 0.2], 1), ([6.3, 3.4, 5.6, 2.4], 0), ([5.3, 3.7, 1.5, 0.2], 1), ([5.1, 3.8, 1.9, 0.4], 1), ([7.1, 3.0, 5.9, 2.1], 0), ([4.7, 3.2, 1.3, 0.2], 1), ([6.5, 3.0, 5.8, 2.2], 0), ([7.2, 3.0, 5.8, 1.6], 0), ([6.4, 3.1, 5.5, 1.8], 0), ([6.7, 3.3, 5.7, 2.5], 0), ([5.1, 3.5, 1.4, 0.3], 1), ([5.4, 3.7, 1.5, 0.2], 1), ([4.6, 3.4, 1.4, 0.3], 1), ([5.6, 2.8, 4.9, 2.0], 0), ([5.7, 3.0, 4.2, 1.2], 2), ([6.7, 3.1, 4.4, 1.4], 2), ([5.5, 2.4, 3.7, 1.0], 2), ([6.0, 2.9, 4.5, 1.5], 2), ([5.5, 2.6, 4.4, 1.2], 2), ([6.4, 2.8, 5.6, 2.1], 0), ([5.0, 3.2, 1.2, 0.2], 1), ([5.8, 2.7, 5.1, 1.9], 0), ([4.8, 3.4, 1.9, 0.2], 1), ([6.1, 2.8, 4.0, 1.3], 2), ([4.4, 3.0, 1.3, 0.2], 1), ([5.0, 3.4, 1.6, 0.4], 1), ([4.6, 3.1, 1.5, 0.2], 1)]\n",
            "[([5.8, 2.8, 5.1, 2.4], 0), ([6.3, 2.8, 5.1, 1.5], 0), ([7.6, 3.0, 6.6, 2.1], 0), ([5.0, 2.3, 3.3, 1.0], 2), ([4.9, 3.1, 1.5, 0.1], 1), ([6.9, 3.1, 4.9, 1.5], 2), ([5.2, 3.4, 1.4, 0.2], 1), ([5.4, 3.9, 1.3, 0.4], 1), ([6.6, 3.0, 4.4, 1.4], 2), ([7.2, 3.6, 6.1, 2.5], 0), ([5.7, 2.8, 4.5, 1.3], 2), ([4.7, 3.2, 1.6, 0.2], 1), ([5.6, 3.0, 4.1, 1.3], 2), ([6.3, 2.7, 4.9, 1.8], 0), ([5.8, 4.0, 1.2, 0.2], 1), ([4.9, 3.1, 1.5, 0.1], 1), ([7.2, 3.2, 6.0, 1.8], 0), ([5.2, 3.5, 1.5, 0.2], 1), ([6.7, 3.0, 5.0, 1.7], 2), ([5.1, 3.8, 1.5, 0.3], 1), ([7.7, 2.6, 6.9, 2.3], 0), ([6.4, 2.8, 5.6, 2.2], 0), ([6.7, 2.5, 5.8, 1.8], 0), ([6.3, 2.9, 5.6, 1.8], 0), ([4.5, 2.3, 1.3, 0.3], 1), ([5.0, 3.4, 1.5, 0.2], 1), ([5.1, 3.7, 1.5, 0.4], 1), ([4.9, 3.0, 1.4, 0.2], 1), ([5.6, 2.9, 3.6, 1.3], 2), ([5.5, 3.5, 1.3, 0.2], 1)]\n"
          ]
        }
      ]
    },
    {
      "cell_type": "code",
      "source": [
        "def distance(a, b): \n",
        "\n",
        "  s = 0\n",
        "  for i in range(len(a[0])):\n",
        "      s += (a[0][i] - b[0][i]) ** 2\n",
        "\n",
        "  return s ** 0.5\n",
        "\n",
        "\n",
        "def knn_classify(k, query, train):\n",
        "  knns = sorted((distance(point, query), point) for point in train)[:k]\n",
        "\n",
        "  scores = {} # 거리에따라 가중치를 주어 점수 계산 \n",
        "\n",
        "  for dist, point in knns:\n",
        "    scores[point[1]] = scores.get(point[1], 0) + 1/(1+dist)\n",
        "\n",
        "  resp, score = max(scores.items(), key=lambda x: x[1])\n",
        "\n",
        "  return resp"
      ],
      "metadata": {
        "id": "kfh8yMxIoFLq"
      },
      "execution_count": 16,
      "outputs": []
    },
    {
      "cell_type": "code",
      "source": [
        "k= 3\n",
        "correct = sum(1 for t in test if knn_classify(k, t, train) == t[1]) \n",
        "\n",
        "accuracy = correct/len(test)\n",
        "\n",
        "print(\"accuracy:\", accuracy)"
      ],
      "metadata": {
        "colab": {
          "base_uri": "https://localhost:8080/"
        },
        "id": "pqjEyACCoLE_",
        "outputId": "0ba2cde7-2192-4501-e332-f09fd5782aa0"
      },
      "execution_count": 17,
      "outputs": [
        {
          "output_type": "stream",
          "name": "stdout",
          "text": [
            "accuracy: 0.9333333333333333\n"
          ]
        }
      ]
    },
    {
      "cell_type": "code",
      "source": [
        "# 최적의 k 찾기\n",
        "\n",
        "num_trials = 100\n",
        "train_size = int(len(data) * 0.8)\n",
        "test_size = len(data) - train_size\n",
        "corrects = [0] * 20\n",
        "\n",
        "for i in tqdm(range(num_trials)):\n",
        "\n",
        "    random.shuffle(data)\n",
        "    train = data[:train_size]\n",
        "    test = data[train_size:]\n",
        "\n",
        "    for k in range(1,20):\n",
        "        corrects[k] += sum(1 for t in test if knn_classify(k, t, train) == t[1])\n",
        "\n",
        "for k in range(1, 20):\n",
        "    corrects[k] /= num_trials * test_size\n",
        "\n",
        "plt.plot(range(1,20), corrects[1:], '-x')\n",
        "plt.show()"
      ],
      "metadata": {
        "colab": {
          "base_uri": "https://localhost:8080/",
          "height": 283
        },
        "id": "rjGz1eZ7oZBA",
        "outputId": "c0444b7c-9740-4913-8cdf-820b112db24e"
      },
      "execution_count": 18,
      "outputs": [
        {
          "output_type": "stream",
          "name": "stderr",
          "text": [
            "100%|██████████| 100/100 [00:15<00:00,  6.62it/s]\n"
          ]
        },
        {
          "output_type": "display_data",
          "data": {
            "text/plain": [
              "<Figure size 432x288 with 1 Axes>"
            ],
            "image/png": "[encoded data removed]"
          },
          "metadata": {
            "needs_background": "light"
          }
        }
      ]
    },
    {
      "cell_type": "code",
      "source": [],
      "metadata": {
        "id": "6JX4zAZip7YP"
      },
      "execution_count": null,
      "outputs": []
    }
  ]
}