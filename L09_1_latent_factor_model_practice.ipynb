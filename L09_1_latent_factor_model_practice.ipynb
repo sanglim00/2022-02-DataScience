{
  "nbformat": 4,
  "nbformat_minor": 0,
  "metadata": {
    "colab": {
      "provenance": [],
      "collapsed_sections": []
    },
    "kernelspec": {
      "name": "python3",
      "display_name": "Python 3"
    },
    "language_info": {
      "name": "python"
    }
  },
  "cells": [
    {
      "cell_type": "markdown",
      "source": [
        "# Colab에서 구글드라이브 연결하기"
      ],
      "metadata": {
        "id": "5yEHau4Sh6fe"
      }
    },
    {
      "cell_type": "code",
      "execution_count": 1,
      "metadata": {
        "id": "SQfFVT5-Xg2G",
        "colab": {
          "base_uri": "https://localhost:8080/"
        },
        "outputId": "216bfac7-5953-4056-b87f-f23675ba51df"
      },
      "outputs": [
        {
          "output_type": "stream",
          "name": "stdout",
          "text": [
            "Mounted at /content/gdrive/\n"
          ]
        }
      ],
      "source": [
        "from google.colab import drive\n",
        "drive.mount('/content/gdrive/')"
      ]
    },
    {
      "cell_type": "markdown",
      "source": [
        "# 필요한 모듈 import 하기\n",
        " "
      ],
      "metadata": {
        "id": "PoXpe-dth-iG"
      }
    },
    {
      "cell_type": "code",
      "source": [
        "import torch\n",
        "import pandas as pd\n",
        "import torch.nn.functional as F\n",
        "import matplotlib.pyplot as plt"
      ],
      "metadata": {
        "id": "eto-KZ1EbJWQ"
      },
      "execution_count": 2,
      "outputs": []
    },
    {
      "cell_type": "markdown",
      "source": [
        "# 판다스를 이용하여 파일 불러오기\n",
        " "
      ],
      "metadata": {
        "id": "S3yre9Q4iCaf"
      }
    },
    {
      "cell_type": "code",
      "source": [
        "# sep(seperate) : tap으로 나누어서 있다, 구분 되어져있다.\n",
        "# names : column명을 직접 알려준다\n",
        "\n",
        "train = pd.read_csv(\"/content/gdrive/MyDrive/ColabNotebooks/ua.base\",\n",
        "                   sep=\"\\t\", names=['user', 'movie', 'rating', 'timestamp'])\n",
        "\n",
        "\n",
        "test = pd.read_csv(\"/content/gdrive/MyDrive/ColabNotebooks/ua.test\",\n",
        "                  sep=\"\\t\", names=['user', 'movie', 'rating', 'timestamp'])"
      ],
      "metadata": {
        "id": "sjYazK_4bdNx"
      },
      "execution_count": 3,
      "outputs": []
    },
    {
      "cell_type": "code",
      "source": [
        "# 10만개의 데이터 확인\n",
        "print(train)\n",
        "print(test)"
      ],
      "metadata": {
        "colab": {
          "base_uri": "https://localhost:8080/"
        },
        "id": "R7LTPlzWcYw5",
        "outputId": "a2b07897-ff33-4ec0-c7af-70dfd22a0b74"
      },
      "execution_count": 4,
      "outputs": [
        {
          "output_type": "stream",
          "name": "stdout",
          "text": [
            "       user  movie  rating  timestamp\n",
            "0         1      1       5  874965758\n",
            "1         1      2       3  876893171\n",
            "2         1      3       4  878542960\n",
            "3         1      4       3  876893119\n",
            "4         1      5       3  889751712\n",
            "...     ...    ...     ...        ...\n",
            "90565   943   1047       2  875502146\n",
            "90566   943   1074       4  888640250\n",
            "90567   943   1188       3  888640250\n",
            "90568   943   1228       3  888640275\n",
            "90569   943   1330       3  888692465\n",
            "\n",
            "[90570 rows x 4 columns]\n",
            "      user  movie  rating  timestamp\n",
            "0        1     20       4  887431883\n",
            "1        1     33       4  878542699\n",
            "2        1     61       4  878542420\n",
            "3        1    117       3  874965739\n",
            "4        1    155       2  878542201\n",
            "...    ...    ...     ...        ...\n",
            "9425   943    232       4  888639867\n",
            "9426   943    356       4  888639598\n",
            "9427   943    570       1  888640125\n",
            "9428   943    808       4  888639868\n",
            "9429   943   1067       2  875501756\n",
            "\n",
            "[9430 rows x 4 columns]\n"
          ]
        }
      ]
    },
    {
      "cell_type": "markdown",
      "source": [
        "# pytorch tensor 데이터로 변환\n",
        " "
      ],
      "metadata": {
        "id": "6erNqUdpiE0J"
      }
    },
    {
      "cell_type": "code",
      "source": [
        "# train data\n",
        "items = torch.tensor(train['movie'], dtype=torch.long)\n",
        "users = torch.tensor(train['user'], dtype=torch.long)\n",
        "ratings = torch.tensor(train['rating'], dtype=torch.float)\n",
        "\n",
        "# test data\n",
        "items_test = torch.tensor(test['movie'], dtype=torch.long)\n",
        "users_test = torch.tensor(test['user'], dtype=torch.long)\n",
        "ratings_test = torch.tensor(test['rating'], dtype=torch.float)"
      ],
      "metadata": {
        "id": "Dox-y7__caaF"
      },
      "execution_count": 5,
      "outputs": []
    },
    {
      "cell_type": "code",
      "source": [
        "# rank → 사용자 vector, 아이템 vector의 차원\n",
        "# numUsers → 사용자 수\n",
        "# numItems → 아이템 수\n",
        "# P → 아이템매트릭스\n",
        "# Q → 사용자매트릭스\n",
        " \n",
        "rank = 10 # rank를 10으로 설정 (차원)\n",
        "numItems = items.max() + 1 # max값에 1더하면 원하는 수 찾을 수 있다.\n",
        "numUsers = users.max() + 1\n",
        "\n",
        "# P, Q 매트릭스 -> 학습해야하는 데이터라 requires_grad를 True로\n",
        "P = torch.randn(numItems, rank, requires_grad=True)\n",
        "Q = torch.randn(numUsers, rank, requires_grad=True)"
      ],
      "metadata": {
        "id": "MrINyPKudfFD"
      },
      "execution_count": 6,
      "outputs": []
    },
    {
      "cell_type": "code",
      "source": [
        "print(P.shape)\n",
        "print(Q.shape)"
      ],
      "metadata": {
        "colab": {
          "base_uri": "https://localhost:8080/"
        },
        "id": "I2beK3Pke5vP",
        "outputId": "32b4a7ba-dffe-4d40-c145-735ffcdaf013"
      },
      "execution_count": 7,
      "outputs": [
        {
          "output_type": "stream",
          "name": "stdout",
          "text": [
            "torch.Size([1683, 10])\n",
            "torch.Size([944, 10])\n"
          ]
        }
      ]
    },
    {
      "cell_type": "code",
      "source": [
        "# 10번 user가 20번 영화에 몇 점을 주었을지 예측하자면 ?\n",
        "(P[20] * Q[10]).sum()"
      ],
      "metadata": {
        "colab": {
          "base_uri": "https://localhost:8080/"
        },
        "id": "XnofN1a1e-Hi",
        "outputId": "57c27f6f-7854-4b52-c6d5-0e08c6cd32d3"
      },
      "execution_count": 8,
      "outputs": [
        {
          "output_type": "execute_result",
          "data": {
            "text/plain": [
              "tensor(2.1564, grad_fn=<SumBackward0>)"
            ]
          },
          "metadata": {},
          "execution_count": 8
        }
      ]
    },
    {
      "cell_type": "markdown",
      "source": [
        "# Latent Factor Model\n",
        "\n"
      ],
      "metadata": {
        "id": "s1cr_1zziIrB"
      }
    },
    {
      "cell_type": "code",
      "source": [
        "# 기본 Matrix Factorization 구현\n",
        "P = torch.randn(numItems, rank, requires_grad=True)\n",
        "Q = torch.randn(numUsers, rank, requires_grad=True)\n",
        "\n",
        "optim = torch.optim.Adam([P, Q], lr= 0.1)\n",
        "\n",
        "X = []\n",
        "Y = []\n",
        "Y_test = []\n",
        "\n",
        "for epoch in range(1001):\n",
        "\n",
        "  h = torch.sum(P[items] * Q[users], dim=1) # h = (P[items] * Q[users]).sum(dim=1) \n",
        "  cost = F.mse_loss(h, ratings)\n",
        "\n",
        "  optim.zero_grad()\n",
        "  cost.backward()\n",
        "  optim.step()\n",
        "\n",
        "\n",
        "  with torch.no_grad():\n",
        "\n",
        "    X.append(epoch)\n",
        "    Y.append(cost.item())\n",
        "\n",
        "    h_test = (P[items_test] * Q[users_test]).sum(dim=1)\n",
        "    cost_test = F.mse_loss(h_test, ratings_test)\n",
        "\n",
        "    Y_test.append(cost_test.item())\n",
        "\n",
        "    if epoch % 100 == 0:\n",
        "      print(\"epoch: {}, cost: {:.6f}\".format(epoch, cost.item()))"
      ],
      "metadata": {
        "colab": {
          "base_uri": "https://localhost:8080/"
        },
        "id": "k5LJZEVtfU8u",
        "outputId": "65553533-5354-43b4-c591-98e929d1f532"
      },
      "execution_count": 9,
      "outputs": [
        {
          "output_type": "stream",
          "name": "stdout",
          "text": [
            "epoch: 0, cost: 23.425909\n",
            "epoch: 100, cost: 0.561678\n",
            "epoch: 200, cost: 0.493469\n",
            "epoch: 300, cost: 0.470130\n",
            "epoch: 400, cost: 0.459615\n",
            "epoch: 500, cost: 0.454312\n",
            "epoch: 600, cost: 0.451093\n",
            "epoch: 700, cost: 0.448735\n",
            "epoch: 800, cost: 0.446802\n",
            "epoch: 900, cost: 0.445260\n",
            "epoch: 1000, cost: 0.444076\n"
          ]
        }
      ]
    },
    {
      "cell_type": "code",
      "source": [
        "# Matplotlib으로 epoch 마다 Training MSE 그려보기\n",
        "\n",
        "plt.ylabel(\"MSE\")\n",
        "plt.xlabel(\"Epoch\")\n",
        "\n",
        "plt.plot(X, Y, label=\"Training MSE\")\n",
        "plt.plot(X, Y_test, label=\"Test MSE\")\n",
        "\n",
        "plt.legend()\n",
        "plt.show()"
      ],
      "metadata": {
        "colab": {
          "base_uri": "https://localhost:8080/",
          "height": 279
        },
        "id": "i7mdzzL3io15",
        "outputId": "1b1c8106-a467-403f-82e2-2cdc8aabfc95"
      },
      "execution_count": 10,
      "outputs": [
        {
          "output_type": "display_data",
          "data": {
            "text/plain": [
              "<Figure size 432x288 with 1 Axes>"
            ],
            "image/png": "[encoded data removed]"
          },
          "metadata": {
            "needs_background": "light"
          }
        }
      ]
    },
    {
      "cell_type": "code",
      "source": [
        "# Regularization 추가하기\n",
        "\n",
        "P = torch.randn(numItems, rank, requires_grad=True)\n",
        "Q = torch.randn(numUsers, rank, requires_grad=True)\n",
        "\n",
        "lambda1 = 1\n",
        "lambda2 = 1\n",
        "\n",
        "optim = torch.optim.Adam([P, Q], lr= 0.1)\n",
        "\n",
        "X = []\n",
        "Y = []\n",
        "Y_test = []\n",
        "\n",
        "for epoch in range(1001):\n",
        "\n",
        "  h = torch.sum(P[items] * Q[users], dim=1) # h = (P[items] * Q[users]).sum(dim=1) \n",
        "  cost = F.mse_loss(h, ratings) \n",
        "  # Regularization term 덕분에 오버피팅을 막았다.\n",
        "  loss = cost + lambda1 * (P*P).mean() + lambda2 * (Q*Q).mean()\n",
        "  # 왜 sum 이 아니라 mean을 했냐 \n",
        "  # 각각의 값에 제곱을 한 다음에 평균을 한 값이 낮아지게끔 학습을 하면 튀는 현상을 막을 수 있는데\n",
        "  # 각각의 값을 제곱을 한 뒤에 sum 한 값을 낮게 해도 튀는 애들이 사라진다. \n",
        "  # 대신 람다값이 sum 할 때는 좀 더 작아져야 겠죠 ? 고 정도 차이\n",
        "\n",
        "  optim.zero_grad()\n",
        "  loss.backward()\n",
        "  optim.step()\n",
        "\n",
        "\n",
        "  with torch.no_grad():\n",
        "\n",
        "    X.append(epoch)\n",
        "    Y.append(cost.item())\n",
        "\n",
        "    h_test = (P[items_test] * Q[users_test]).sum(dim=1)\n",
        "    cost_test = F.mse_loss(h_test, ratings_test)\n",
        "\n",
        "    Y_test.append(cost_test.item())\n",
        "\n",
        "    if epoch % 100 == 0:\n",
        "      print(f\"epoch: {epoch}, cost: {cost.item()}, test_cost: {cost_test.item()}\")\n",
        "\n",
        "\n",
        "\n",
        "plt.ylabel(\"MSE\")\n",
        "plt.xlabel(\"Epoch\")\n",
        "\n",
        "plt.plot(X, Y, label=\"Training MSE\")\n",
        "plt.plot(X, Y_test, label=\"Test MSE\")\n",
        "\n",
        "plt.legend()\n",
        "plt.show()"
      ],
      "metadata": {
        "colab": {
          "base_uri": "https://localhost:8080/",
          "height": 475
        },
        "id": "YeUsudrEjrgd",
        "outputId": "e801733e-19fe-46b6-ecf0-cc8db2494e40"
      },
      "execution_count": 13,
      "outputs": [
        {
          "output_type": "stream",
          "name": "stdout",
          "text": [
            "epoch: 0, cost: 23.64555549621582, test_cost: 22.23738670349121\n",
            "epoch: 100, cost: 0.6660714149475098, test_cost: 1.023863434791565\n",
            "epoch: 200, cost: 0.6049926280975342, test_cost: 1.0226562023162842\n",
            "epoch: 300, cost: 0.5931204557418823, test_cost: 1.0205250978469849\n",
            "epoch: 400, cost: 0.5897976160049438, test_cost: 1.0180668830871582\n",
            "epoch: 500, cost: 0.5886696577072144, test_cost: 1.0179351568222046\n",
            "epoch: 600, cost: 0.5880562663078308, test_cost: 1.0192270278930664\n",
            "epoch: 700, cost: 0.5877630710601807, test_cost: 1.0197339057922363\n",
            "epoch: 800, cost: 0.5876034498214722, test_cost: 1.019455075263977\n",
            "epoch: 900, cost: 0.5874850153923035, test_cost: 1.0188363790512085\n",
            "epoch: 1000, cost: 0.5873963832855225, test_cost: 1.01813805103302\n"
          ]
        },
        {
          "output_type": "display_data",
          "data": {
            "text/plain": [
              "<Figure size 432x288 with 1 Axes>"
            ],
            "image/png": "[encoded data removed]"
          },
          "metadata": {
            "needs_background": "light"
          }
        }
      ]
    },
    {
      "cell_type": "markdown",
      "source": [
        "# Bias 추가하기"
      ],
      "metadata": {
        "id": "ijB1SYqioHDX"
      }
    },
    {
      "cell_type": "code",
      "source": [
        "# global baseline estimate에서 너무 데이터가 sparse할 때에는 평균값을 알려주는게 더 좋을 수 있다\n",
        "# 그 개념을 Latent Factor Model에 잘 녹여내면 좋지 않을까 ?\n",
        "\n",
        "# 각 유저와 매트릭스마다 기본값을 할당을 해주고 기본값보다 예측값이 얼마나 벗어나 있는지를 \n",
        "# P, Q 매트릭스로 학습해서 넣어주면은 더 정확도가 올라갈 것이다 \n",
        "\n",
        "\n",
        "P = torch.randn(numItems, rank, requires_grad=True)\n",
        "Q = torch.randn(numUsers, rank, requires_grad=True)\n",
        "\n",
        "bias_item = torch.randn(numItems, requires_grad=True) # numItems만큼의 차원\n",
        "bias_user = torch.randn(numUsers, requires_grad=True) # numUsers만큼의 차원\n",
        "mean = ratings.mean()\n",
        "\n",
        "lambda3 = 1\n",
        "lambda4 = 1\n",
        "\n",
        "optim = torch.optim.Adam([P, Q, bias_item, bias_user], lr= 0.1)\n",
        "\n",
        "X = []\n",
        "Y = []\n",
        "Y_test = []\n",
        "\n",
        "for epoch in range(1001):\n",
        "\n",
        "  # 각각의 아이템벡터 유저벡터를 내적한 것에 평균, 아이템의 바이어스, 유저의 바이어스를 더해준 것을 가설함수로 만들자\n",
        "  h = (P[items] * Q[users]).sum(dim=1) + mean + bias_item[items] + bias_user[users]\n",
        "  cost = F.mse_loss(h, ratings)\n",
        "  loss = cost + lambda1 * (P*P).mean() + lambda2 * (Q*Q).mean() + \\\n",
        "          lambda3 * (bias_user**2).mean() +lambda4*(bias_item**2).mean()\n",
        "\n",
        "\n",
        "  optim.zero_grad()\n",
        "  loss.backward()\n",
        "  optim.step()\n",
        "\n",
        "\n",
        "  with torch.no_grad():\n",
        "\n",
        "    X.append(epoch)\n",
        "    Y.append(cost.item())\n",
        "\n",
        "    h_test = (P[items_test] * Q[users_test]).sum(dim=1) + \\\n",
        "              mean + bias_item[items_test] + bias_user[users_test]\n",
        "\n",
        "    cost_test = F.mse_loss(h_test, ratings_test)\n",
        "\n",
        "    Y_test.append(cost_test.item())\n",
        "\n",
        "    if epoch % 100 == 0:\n",
        "      print(f\"epoch: {epoch}, cost: {cost.item()}, test_cost: {cost_test.item()}\")\n"
      ],
      "metadata": {
        "colab": {
          "base_uri": "https://localhost:8080/"
        },
        "id": "EsNuM48gm23L",
        "outputId": "d3890af0-e3a8-4d37-f0b9-dec920a7a571"
      },
      "execution_count": 15,
      "outputs": [
        {
          "output_type": "stream",
          "name": "stdout",
          "text": [
            "epoch: 0, cost: 13.541299819946289, test_cost: 10.43134593963623\n",
            "epoch: 100, cost: 0.6062437891960144, test_cost: 0.9257848858833313\n",
            "epoch: 200, cost: 0.5782127976417542, test_cost: 0.9153028130531311\n",
            "epoch: 300, cost: 0.5738480091094971, test_cost: 0.9125317931175232\n",
            "epoch: 400, cost: 0.572788417339325, test_cost: 0.9116465449333191\n",
            "epoch: 500, cost: 0.5721743106842041, test_cost: 0.9114572405815125\n",
            "epoch: 600, cost: 0.5718441605567932, test_cost: 0.9109041690826416\n",
            "epoch: 700, cost: 0.571670413017273, test_cost: 0.9101395606994629\n",
            "epoch: 800, cost: 0.5714727640151978, test_cost: 0.9089874029159546\n",
            "epoch: 900, cost: 0.5711406469345093, test_cost: 0.908250629901886\n",
            "epoch: 1000, cost: 0.5709450244903564, test_cost: 0.908043622970581\n"
          ]
        }
      ]
    },
    {
      "cell_type": "code",
      "source": [
        "plt.ylabel(\"MSE\")\n",
        "plt.xlabel(\"Epoch\")\n",
        "\n",
        "plt.plot(X, Y, label=\"Training MSE\")\n",
        "plt.plot(X, Y_test, label=\"Test MSE\")\n",
        "\n",
        "plt.legend()\n",
        "plt.show()"
      ],
      "metadata": {
        "id": "-cHPXz-wp9O-",
        "colab": {
          "base_uri": "https://localhost:8080/",
          "height": 280
        },
        "outputId": "a98aed6f-9115-473c-a779-26f61395052f"
      },
      "execution_count": 16,
      "outputs": [
        {
          "output_type": "display_data",
          "data": {
            "text/plain": [
              "<Figure size 432x288 with 1 Axes>"
            ],
            "image/png": "[encoded data removed]"
          },
          "metadata": {
            "needs_background": "light"
          }
        }
      ]
    },
    {
      "cell_type": "code",
      "source": [],
      "metadata": {
        "id": "RPCn8Xvwq0RC"
      },
      "execution_count": null,
      "outputs": []
    }
  ]
}